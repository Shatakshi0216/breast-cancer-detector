{
  "cells": [
    {
      "cell_type": "code",
      "execution_count": null,
      "metadata": {
        "id": "crM1THk4hLIi"
      },
      "outputs": [
        {
          "ename": "",
          "evalue": "",
          "output_type": "error",
          "traceback": [
            "\u001b[1;31mRunning cells with 'Python 3.10.11' requires the ipykernel package.\n",
            "\u001b[1;31m<a href='command:jupyter.createPythonEnvAndSelectController'>Create a Python Environment</a> with the required packages.\n",
            "\u001b[1;31mOr install 'ipykernel' using the command: 'c:/Users/HP/AppData/Local/Microsoft/WindowsApps/python3.10.exe -m pip install ipykernel -U --user --force-reinstall'"
          ]
        }
      ],
      "source": []
    },
    {
      "cell_type": "markdown",
      "metadata": {
        "id": "39FyonZyhUOn"
      },
      "source": [
        "Importing the Dependencies"
      ]
    },
    {
      "cell_type": "code",
      "execution_count": null,
      "metadata": {
        "id": "EsYHsQSxhZCM"
      },
      "outputs": [],
      "source": [
        "import numpy as np\n",
        "import pandas as pd\n",
        "import sklearn.datasets\n",
        "from sklearn.model_selection import train_test_split\n",
        "from sklearn.linear_model import LogisticRegression\n",
        "from sklearn.metrics import accuracy_score"
      ]
    },
    {
      "cell_type": "markdown",
      "metadata": {
        "id": "lRlnBieSh3LM"
      },
      "source": [
        "Data Collection and Processing"
      ]
    },
    {
      "cell_type": "code",
      "execution_count": null,
      "metadata": {
        "id": "HpzbUc2sh6Nc"
      },
      "outputs": [],
      "source": [
        "breast_cancer_dataset = sklearn.datasets.load_breast_cancer()"
      ]
    },
    {
      "cell_type": "code",
      "execution_count": null,
      "metadata": {
        "colab": {
          "base_uri": "https://localhost:8080/"
        },
        "id": "1AxnsUmdiDOd",
        "outputId": "b925691b-2c1e-4070-d762-43658d0e801f"
      },
      "outputs": [],
      "source": [
        "print(breast_cancer_dataset)"
      ]
    },
    {
      "cell_type": "code",
      "execution_count": null,
      "metadata": {
        "id": "_JjW7vZyixmz"
      },
      "outputs": [],
      "source": [
        "# Loading the data to a DataFrame\n",
        "data_frame = pd.DataFrame(breast_cancer_dataset.data,columns=breast_cancer_dataset.feature_names)"
      ]
    },
    {
      "cell_type": "code",
      "execution_count": null,
      "metadata": {
        "colab": {
          "base_uri": "https://localhost:8080/",
          "height": 290
        },
        "id": "DNEw0-QrjDYD",
        "outputId": "44ae4ac7-ebba-47e8-c7b4-f2d1a9741639"
      },
      "outputs": [],
      "source": [
        "data_frame.head()"
      ]
    },
    {
      "cell_type": "code",
      "execution_count": null,
      "metadata": {
        "id": "BG7KydqWjduc"
      },
      "outputs": [],
      "source": [
        "# Adding the target to the DataFrame we have\n",
        "data_frame['label'] = breast_cancer_dataset.target"
      ]
    },
    {
      "cell_type": "code",
      "execution_count": null,
      "metadata": {
        "colab": {
          "base_uri": "https://localhost:8080/",
          "height": 290
        },
        "id": "lvuCBkRdjzPs",
        "outputId": "d11142fb-f8e3-4ec6-bdec-1967944e10de"
      },
      "outputs": [],
      "source": [
        "data_frame.head() #First five rows"
      ]
    },
    {
      "cell_type": "code",
      "execution_count": null,
      "metadata": {
        "colab": {
          "base_uri": "https://localhost:8080/"
        },
        "id": "SMNEv4rXkT7j",
        "outputId": "01f53255-07e7-4b32-a9ed-8937c4a9fbfe"
      },
      "outputs": [],
      "source": [
        "#No. of rows and col in dataset\n",
        "data_frame.shape"
      ]
    },
    {
      "cell_type": "code",
      "execution_count": null,
      "metadata": {
        "colab": {
          "base_uri": "https://localhost:8080/"
        },
        "id": "ves9ydizoSa3",
        "outputId": "5c130ac3-f1e9-4bc5-d514-9b3f06175df2"
      },
      "outputs": [],
      "source": [
        "# Getting some info od data\n",
        "data_frame.info()"
      ]
    },
    {
      "cell_type": "code",
      "execution_count": null,
      "metadata": {
        "colab": {
          "base_uri": "https://localhost:8080/",
          "height": 1000
        },
        "id": "_q6tgmlZpCk5",
        "outputId": "bdc487a9-10e0-4bc6-eb98-9442d9a9329f"
      },
      "outputs": [],
      "source": [
        "#Check for missing values\n",
        "data_frame.isnull().sum()"
      ]
    },
    {
      "cell_type": "code",
      "execution_count": null,
      "metadata": {
        "colab": {
          "base_uri": "https://localhost:8080/",
          "height": 384
        },
        "id": "PLUcbNQSpiEq",
        "outputId": "a8d0e674-7ea2-4f97-90b5-7c378d479686"
      },
      "outputs": [],
      "source": [
        "# Statistical measures about the data\n",
        "data_frame.describe() #25% means 25% are less than 11.7"
      ]
    },
    {
      "cell_type": "code",
      "execution_count": null,
      "metadata": {
        "colab": {
          "base_uri": "https://localhost:8080/",
          "height": 178
        },
        "id": "urcqeCiQqj34",
        "outputId": "3d44f4d4-2789-4ae0-b4f6-58453e111bcb"
      },
      "outputs": [],
      "source": [
        "# Checking the distribution of Target variable\n",
        "data_frame['label'].value_counts()"
      ]
    },
    {
      "cell_type": "markdown",
      "metadata": {
        "id": "YsWQajzMrA96"
      },
      "source": [
        "1 => Benign\n",
        "0 => Malignant"
      ]
    },
    {
      "cell_type": "code",
      "execution_count": null,
      "metadata": {
        "colab": {
          "base_uri": "https://localhost:8080/",
          "height": 227
        },
        "id": "WuSwK8hurUu0",
        "outputId": "a9661b1b-8af1-4472-9df7-1e92c7b37f81"
      },
      "outputs": [],
      "source": [
        "data_frame.groupby('label').mean()"
      ]
    },
    {
      "cell_type": "markdown",
      "metadata": {
        "id": "NxtS0MCKypHN"
      },
      "source": [
        "Separating the Features and target"
      ]
    },
    {
      "cell_type": "code",
      "execution_count": null,
      "metadata": {
        "id": "FvNUJd3wytFi"
      },
      "outputs": [],
      "source": [
        "X = data_frame.drop(columns='label',axis=1)\n",
        "Y = data_frame['label']"
      ]
    },
    {
      "cell_type": "code",
      "execution_count": null,
      "metadata": {
        "colab": {
          "base_uri": "https://localhost:8080/"
        },
        "id": "vYoN7IGUy3HK",
        "outputId": "f8615bb4-a25a-46b5-ac7e-0178d84bc8d0"
      },
      "outputs": [],
      "source": [
        "print(X)"
      ]
    },
    {
      "cell_type": "code",
      "execution_count": null,
      "metadata": {
        "colab": {
          "base_uri": "https://localhost:8080/"
        },
        "id": "HU6V37udy6no",
        "outputId": "5840f3a0-ee19-428e-9c43-596c402b7f0a"
      },
      "outputs": [],
      "source": [
        "print(Y)"
      ]
    },
    {
      "cell_type": "markdown",
      "metadata": {
        "id": "fgl-t1bk0CYY"
      },
      "source": [
        "Splitting the data into Training data and Testing data"
      ]
    },
    {
      "cell_type": "code",
      "execution_count": null,
      "metadata": {
        "id": "QTXSO2-M0Guy"
      },
      "outputs": [],
      "source": [
        "X_train,X_test,Y_train,Y_test = train_test_split(X,Y,test_size=0.2,random_state=2)"
      ]
    },
    {
      "cell_type": "code",
      "execution_count": null,
      "metadata": {
        "colab": {
          "base_uri": "https://localhost:8080/"
        },
        "id": "Kh5K725w0heL",
        "outputId": "885ce161-e997-42bb-a13d-f4e8e6414c64"
      },
      "outputs": [],
      "source": [
        "print(X.shape,X_train.shape,X_test.shape)"
      ]
    },
    {
      "cell_type": "markdown",
      "metadata": {
        "id": "YRkjrZd73mIg"
      },
      "source": [
        "Model Training"
      ]
    },
    {
      "cell_type": "markdown",
      "metadata": {
        "id": "j_X0qc243odI"
      },
      "source": [
        "Logistic Regression"
      ]
    },
    {
      "cell_type": "code",
      "execution_count": null,
      "metadata": {
        "id": "GyxnthLs3qZG"
      },
      "outputs": [],
      "source": [
        "model = LogisticRegression()"
      ]
    },
    {
      "cell_type": "code",
      "execution_count": null,
      "metadata": {
        "colab": {
          "base_uri": "https://localhost:8080/",
          "height": 219
        },
        "id": "UVPCOR613vTF",
        "outputId": "0f0a6db8-8fea-476d-9701-50529dbf50d3"
      },
      "outputs": [],
      "source": [
        "model.fit(X_train,Y_train)"
      ]
    },
    {
      "cell_type": "markdown",
      "metadata": {
        "id": "MSCbRjl74bMg"
      },
      "source": [
        "Model Evaluation"
      ]
    },
    {
      "cell_type": "markdown",
      "metadata": {
        "id": "oKwuvq1H4dRK"
      },
      "source": [
        "Accuracy Score"
      ]
    },
    {
      "cell_type": "code",
      "execution_count": null,
      "metadata": {
        "id": "q5Lf0VM-7fzw"
      },
      "outputs": [],
      "source": [
        "X_train_prediction = model.predict(X_train)\n",
        "training_data_accuracy = accuracy_score(Y_train,X_train_prediction)"
      ]
    },
    {
      "cell_type": "code",
      "execution_count": null,
      "metadata": {
        "colab": {
          "base_uri": "https://localhost:8080/"
        },
        "id": "GdBrtVpA7sPX",
        "outputId": "51aadbfc-685f-46fb-b667-c5242e466928"
      },
      "outputs": [],
      "source": [
        "print('Accuracy on training data : ',training_data_accuracy)"
      ]
    },
    {
      "cell_type": "code",
      "execution_count": null,
      "metadata": {
        "id": "Cg_5RGlO7xIX"
      },
      "outputs": [],
      "source": [
        "X_test_prediction = model.predict(X_test)\n",
        "test_data_accuracy = accuracy_score(Y_test,X_test_prediction)"
      ]
    },
    {
      "cell_type": "code",
      "execution_count": null,
      "metadata": {
        "colab": {
          "base_uri": "https://localhost:8080/"
        },
        "id": "RU2QgnhR72oH",
        "outputId": "68200bf1-bbec-452c-d3c3-13085ae2c630"
      },
      "outputs": [],
      "source": [
        "print('Accuracy on test data : ',test_data_accuracy)"
      ]
    },
    {
      "cell_type": "markdown",
      "metadata": {
        "id": "W_PYK36D-QkX"
      },
      "source": [
        "Building a Predictive System"
      ]
    },
    {
      "cell_type": "code",
      "execution_count": null,
      "metadata": {
        "colab": {
          "base_uri": "https://localhost:8080/"
        },
        "id": "7kR1XPOwAdov",
        "outputId": "d43e432d-8d68-45d1-84ec-101498fef57d"
      },
      "outputs": [],
      "source": [
        "input_data = (20.57,17.77,132.9,1326,0.08474,0.07864,0.0869,0.07017,0.1812,0.05667,0.5435,0.7339,3.398,74.08,0.005225,0.01308,0.0186,0.0134,0.01389,0.003532,24.99,23.41,158.8,1956,0.1238,0.1866,0.2416,0.186,0.275,0.08902\n",
        ")\n",
        "# Convert tuple into array so that we can reshape it\n",
        "input_data_as_numpy_array = np.asarray(input_data)\n",
        "\n",
        "# Reshape the array as we are predicting for one instance\n",
        "input_data_reshaped = input_data_as_numpy_array.reshape(1,-1)\n",
        "\n",
        "prediction = model.predict(input_data_reshaped)\n",
        "\n",
        "if (prediction[0] == 0):\n",
        "    print('The Breast Cancer is Malignant')\n",
        "else:\n",
        "    print('The Breast Cancer is Benign')"
      ]
    }
  ],
  "metadata": {
    "colab": {
      "provenance": []
    },
    "kernelspec": {
      "display_name": "Python 3",
      "name": "python3"
    },
    "language_info": {
      "name": "python",
      "version": "3.10.11"
    }
  },
  "nbformat": 4,
  "nbformat_minor": 0
}
